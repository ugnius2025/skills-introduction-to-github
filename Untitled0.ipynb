{
  "nbformat": 4,
  "nbformat_minor": 0,
  "metadata": {
    "colab": {
      "provenance": [],
      "toc_visible": true,
      "authorship_tag": "ABX9TyPqh7d+nk6BUhA0UW2AklTm",
      "include_colab_link": true
    },
    "kernelspec": {
      "name": "python3",
      "display_name": "Python 3"
    },
    "language_info": {
      "name": "python"
    }
  },
  "cells": [
    {
      "cell_type": "markdown",
      "metadata": {
        "id": "view-in-github",
        "colab_type": "text"
      },
      "source": [
        "<a href=\"https://colab.research.google.com/github/ugnius2025/skills-introduction-to-github/blob/main/Untitled0.ipynb\" target=\"_parent\"><img src=\"https://colab.research.google.com/assets/colab-badge.svg\" alt=\"Open In Colab\"/></a>"
      ]
    },
    {
      "cell_type": "code",
      "execution_count": null,
      "metadata": {
        "id": "VotjO3_aL7pf",
        "colab": {
          "base_uri": "https://localhost:8080/"
        },
        "outputId": "cfe5a599-b575-4fea-86e1-de109deb91b4"
      },
      "outputs": [
        {
          "output_type": "stream",
          "name": "stdout",
          "text": [
            "what's your name? Ugnius\n",
            "Ugnius\n"
          ]
        }
      ],
      "source": [
        "name = input (\"what's your name? \")\n",
        "print (name)"
      ]
    }
  ]
}